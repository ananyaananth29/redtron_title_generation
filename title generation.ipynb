{
 "cells": [
  {
   "cell_type": "code",
   "execution_count": 1,
   "id": "43169fba",
   "metadata": {},
   "outputs": [],
   "source": [
    "text=\"A car (or automobile) is a wheeled motor vehicle that is used for transportation. Most definitions of cars say that they run primarily on roads, seat one to eight people, have four wheels, and mainly transport people instead of goods\""
   ]
  },
  {
   "cell_type": "code",
   "execution_count": 3,
   "id": "082811e3",
   "metadata": {},
   "outputs": [
    {
     "data": {
      "text/html": [
       "<pre style=\"white-space:pre;overflow-x:auto;line-height:normal;font-family:Menlo,'DejaVu Sans Mono',consolas,'Courier New',monospace\">A <span style=\"color: #000000; text-decoration-color: #000000; background-color: #ffff00\">car</span> (or automobile) is a <span style=\"color: #000000; text-decoration-color: #000000; background-color: #ffff00\">wheeled</span> motor <span style=\"color: #000000; text-decoration-color: #000000; background-color: #ffff00\">vehicle</span> that is used for transportation. Most \n",
       "definitions of <span style=\"color: #000000; text-decoration-color: #000000; background-color: #ffff00\">cars</span> say that they run primarily on roads, seat one to eight people, have four\n",
       "wheels, and mainly transport people instead of goods\n",
       "</pre>\n"
      ],
      "text/plain": [
       "A \u001b[30;48;2;255;255;0mcar\u001b[0m (or automobile) is a \u001b[30;48;2;255;255;0mwheeled\u001b[0m motor \u001b[30;48;2;255;255;0mvehicle\u001b[0m that is used for transportation. Most \n",
       "definitions of \u001b[30;48;2;255;255;0mcars\u001b[0m say that they run primarily on roads, seat one to eight people, have four\n",
       "wheels, and mainly transport people instead of goods\n"
      ]
     },
     "metadata": {},
     "output_type": "display_data"
    }
   ],
   "source": [
    "from keybert import KeyBERT\n",
    "\n",
    "doc = text\n",
    "kw_model = KeyBERT()\n",
    "keywords = kw_model.extract_keywords(doc,highlight=True)"
   ]
  },
  {
   "cell_type": "code",
   "execution_count": 11,
   "id": "12e9017a",
   "metadata": {},
   "outputs": [
    {
     "data": {
      "text/plain": [
       "[('automobile', 0.6049), ('vehicle', 0.5891), ('cars', 0.5714)]"
      ]
     },
     "execution_count": 11,
     "metadata": {},
     "output_type": "execute_result"
    }
   ],
   "source": [
    "arr=kw_model.extract_keywords(doc, keyphrase_ngram_range=(1,1), stop_words=None,top_n=3)\n",
    "#keyphrase_ngram_range: to set leb=ngth \n",
    "#(1,1):minlen=1 word, maxlen=1 word\n",
    "#(2,4):minword=2 maxword=4\n",
    "# arr=kw_model.extract_keywords(doc) : also words to exract one keyword\n",
    "arr"
   ]
  },
  {
   "cell_type": "code",
   "execution_count": 12,
   "id": "d7ccf132",
   "metadata": {},
   "outputs": [
    {
     "name": "stdout",
     "output_type": "stream",
     "text": [
      "An article on automobile\n"
     ]
    }
   ],
   "source": [
    "print(\"An article on \"+arr[0][0])"
   ]
  },
  {
   "cell_type": "code",
   "execution_count": null,
   "id": "2a081de4",
   "metadata": {},
   "outputs": [],
   "source": []
  }
 ],
 "metadata": {
  "kernelspec": {
   "display_name": "Python 3 (ipykernel)",
   "language": "python",
   "name": "python3"
  },
  "language_info": {
   "codemirror_mode": {
    "name": "ipython",
    "version": 3
   },
   "file_extension": ".py",
   "mimetype": "text/x-python",
   "name": "python",
   "nbconvert_exporter": "python",
   "pygments_lexer": "ipython3",
   "version": "3.9.7"
  }
 },
 "nbformat": 4,
 "nbformat_minor": 5
}
